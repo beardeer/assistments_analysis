{
 "cells": [
  {
   "cell_type": "code",
   "execution_count": 7,
   "metadata": {
    "collapsed": true
   },
   "outputs": [],
   "source": [
    "import os\n",
    "\n",
    "from sklearn.cross_validation import KFold\n",
    "import pandas as pd\n",
    "import numpy as np\n",
    "from tqdm import tqdm\n",
    "from sklearn import metrics\n",
    "from scipy import stats\n",
    "\n",
    "from assistments_workbench.data_converters.generate_BKT_data import BKTConverter\n",
    "from assistments_workbench.models.model import classification_model\n",
    "from assistments_workbench.config_reader import config\n",
    "from BKT_dot_py.BKT import BKT"
   ]
  },
  {
   "cell_type": "code",
   "execution_count": 8,
   "metadata": {
    "collapsed": true
   },
   "outputs": [],
   "source": [
    "col_mapping = {'user_id': 1, 'sequence_id' : 2, 'problem_id' : 3, 'correct': 4}"
   ]
  },
  {
   "cell_type": "code",
   "execution_count": 9,
   "metadata": {
    "collapsed": false
   },
   "outputs": [],
   "source": [
    "input_data = os.path.join(config.get('localfiles', 'data_path'), 'sql_data_3.csv')\n",
    "output_data = os.path.join(config.get('localfiles', 'data_path'), 'bkt', 'nnn.txt')"
   ]
  },
  {
   "cell_type": "code",
   "execution_count": 10,
   "metadata": {
    "collapsed": true
   },
   "outputs": [],
   "source": [
    "converter = BKTConverter(input_data, output_data, col_mapping)"
   ]
  },
  {
   "cell_type": "code",
   "execution_count": null,
   "metadata": {
    "collapsed": false
   },
   "outputs": [
    {
     "name": "stderr",
     "output_type": "stream",
     "text": []
    }
   ],
   "source": [
    "bkt_data = converter.convert()"
   ]
  },
  {
   "cell_type": "code",
   "execution_count": null,
   "metadata": {
    "collapsed": false
   },
   "outputs": [
    {
     "name": "stdout",
     "output_type": "stream",
     "text": [
      "37055\n"
     ]
    },
    {
     "name": "stderr",
     "output_type": "stream",
     "text": [
      " 62%|████████████████████████████████████████████████▏                             | 617/1000 [00:06<00:03, 102.94it/s]"
     ]
    }
   ],
   "source": [
    "for ps_id in bkt_data.keys():\n",
    "    print ps_id\n",
    "    auc, r2, rmse = [], [], []\n",
    "    this_ps_data = bkt_data[ps_id]\n",
    "    data_len = len(this_ps_data)\n",
    "    kf = KFold(data_len, n_folds = 5, shuffle = True)\n",
    "    for train, test in tqdm(kf):\n",
    "        train_data = [this_ps_data.values()[i] for i in train]\n",
    "        test_data = [this_ps_data.values()[i] for i in test]\n",
    "        bkt = BKT(step = 0.1, bounded = False, best_k0 = True)\n",
    "        bkt.fit(train_data)\n",
    "        error, predictions =  bkt.predict(test_data)\n",
    "        \n",
    "        all_test_data = [item for sublist in test_data for item in sublist]\n",
    "        all_predictions = [item for sublist in predictions for item in sublist]\n",
    "        \n",
    "        auc.append(metrics.roc_auc_score(all_test_data, all_predictions))\n",
    "        r, _ = stats.pearsonr(all_test_data, all_predictions)\n",
    "        r2.append(r**2)\n",
    "        rmse.append(metrics.mean_squared_error(all_test_data, all_predictions)**0.5)\n",
    "    print 'AUC: ', np.mean(auc)\n",
    "    print 'r2:', np.mean(r**2)\n",
    "    print 'rmse:', np.mean(rmse)\n",
    "        \n",
    "            "
   ]
  }
 ],
 "metadata": {
  "kernelspec": {
   "display_name": "Python 2",
   "language": "python",
   "name": "python2"
  },
  "language_info": {
   "codemirror_mode": {
    "name": "ipython",
    "version": 2
   },
   "file_extension": ".py",
   "mimetype": "text/x-python",
   "name": "python",
   "nbconvert_exporter": "python",
   "pygments_lexer": "ipython2",
   "version": "2.7.11"
  }
 },
 "nbformat": 4,
 "nbformat_minor": 0
}
