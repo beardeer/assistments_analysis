{
 "cells": [
  {
   "cell_type": "code",
   "execution_count": 74,
   "metadata": {
    "collapsed": true
   },
   "outputs": [],
   "source": [
    "import os\n",
    "from copy import copy\n",
    "\n",
    "from utility_dot_py.utility import build_dict_from_csv\n",
    "from assistments_workbench.config_reader import config"
   ]
  },
  {
   "cell_type": "code",
   "execution_count": 75,
   "metadata": {
    "collapsed": true
   },
   "outputs": [],
   "source": [
    "score_file = os.path.join(config.get('localfiles', 'data_path'), 'TerraNova with item level data 11-5-2015.csv') "
   ]
  },
  {
   "cell_type": "code",
   "execution_count": 76,
   "metadata": {
    "collapsed": true
   },
   "outputs": [],
   "source": [
    "item_skill_file = os.path.join(config.get('localfiles', 'data_path'), 'TerraNovaCC-Level-17-Form-1_CP.csv') "
   ]
  },
  {
   "cell_type": "code",
   "execution_count": 77,
   "metadata": {
    "collapsed": true
   },
   "outputs": [],
   "source": [
    "score_data = build_dict_from_csv(score_file, 0, True, False)"
   ]
  },
  {
   "cell_type": "code",
   "execution_count": 78,
   "metadata": {
    "collapsed": true
   },
   "outputs": [],
   "source": [
    "for m, n in score_data.items():\n",
    "    for k, v in n.items():\n",
    "        if 'm' in k:\n",
    "            new_k = k.replace('m', '')\n",
    "            n[new_k] = v\n",
    "            n.pop(k)    "
   ]
  },
  {
   "cell_type": "code",
   "execution_count": 79,
   "metadata": {
    "collapsed": true
   },
   "outputs": [],
   "source": [
    "output_file_name_1 = os.path.join(config.get('localfiles', 'data_path'), 'insert_item_data_FOR_TEST1_ONLY.sql')"
   ]
  },
  {
   "cell_type": "code",
   "execution_count": 80,
   "metadata": {
    "collapsed": true
   },
   "outputs": [],
   "source": [
    "output_file_1 = open(output_file_name_1, 'w')"
   ]
  },
  {
   "cell_type": "code",
   "execution_count": 81,
   "metadata": {
    "collapsed": true
   },
   "outputs": [],
   "source": [
    "sql_str_1 = '''INSERT INTO efficacy_score_item(\n",
    "            student_sri_id, terranova_problem_id, response, correct)\n",
    "    VALUES (%s, '%s', '%s', %s);\\n'''"
   ]
  },
  {
   "cell_type": "code",
   "execution_count": 82,
   "metadata": {
    "collapsed": true
   },
   "outputs": [],
   "source": [
    "for m, n in score_data.items():\n",
    "    for k, v in n.items():\n",
    "        if v.isdigit():\n",
    "            correct = 0\n",
    "        elif v == ' ':\n",
    "            correct = 'null'\n",
    "        else:\n",
    "            correct = 1\n",
    "            \n",
    "        outptu_str = sql_str_1 % (m, k, v, correct)\n",
    "        output_file_1.write(outptu_str)"
   ]
  },
  {
   "cell_type": "code",
   "execution_count": 83,
   "metadata": {
    "collapsed": true
   },
   "outputs": [],
   "source": [
    "output_file_1.close()"
   ]
  },
  {
   "cell_type": "code",
   "execution_count": 84,
   "metadata": {
    "collapsed": true
   },
   "outputs": [],
   "source": [
    "item_skill_data = build_dict_from_csv(item_skill_file, 1, True, False)"
   ]
  },
  {
   "cell_type": "code",
   "execution_count": 85,
   "metadata": {
    "collapsed": false,
    "scrolled": true
   },
   "outputs": [
    {
     "data": {
      "text/plain": [
       "{'Page #': '60',\n",
       " 'Standard(s)': '(8.G.5) (7.G.6) (7.G.6)',\n",
       " 'explanation': 'bit of an issue with units '}"
      ]
     },
     "execution_count": 85,
     "metadata": {},
     "output_type": "execute_result"
    }
   ],
   "source": [
    "item_skill_data['35']"
   ]
  },
  {
   "cell_type": "code",
   "execution_count": 86,
   "metadata": {
    "collapsed": true
   },
   "outputs": [],
   "source": [
    "output_file_name_2 = os.path.join(config.get('localfiles', 'data_path'), 'insert_skill_data_FOR_TEST1_ONLY.sql')\n",
    "output_file_2 = open(output_file_name_2, 'w')"
   ]
  },
  {
   "cell_type": "code",
   "execution_count": 87,
   "metadata": {
    "collapsed": true
   },
   "outputs": [],
   "source": [
    "sql_str_2 = '''INSERT INTO efficacy_score_skill(\n",
    "            terranova_problem_id, page_num, skill, explanation)\n",
    "    VALUES ('%s', %s, '%s', '%s');\\n'''"
   ]
  },
  {
   "cell_type": "code",
   "execution_count": 88,
   "metadata": {
    "collapsed": false
   },
   "outputs": [
    {
     "name": "stdout",
     "output_type": "stream",
     "text": [
      "37A ['7.SP.8']\n",
      "37C ['7.SP.2']\n",
      "37B ['7.SP.8']\n",
      "24 ['7.RP2']\n",
      "25 ['7.G.1']\n",
      "26 ['5.G.1', '4.MD.4']\n",
      "27 ['5.G.1', '4.MD.4']\n",
      "20 ['none']\n",
      "21 ['5.MD.5b']\n",
      "22 ['7.G.1']\n",
      "23 ['8.G.5']\n",
      "28 ['7.EE.4a']\n",
      "29 ['7.RP.X']\n",
      "1 ['7.EE.3']\n",
      "3 ['4.NF.7b']\n",
      "2 ['6.EE.1']\n",
      "5 ['5.OA.1']\n",
      "4 ['5.NF.1']\n",
      "7 ['7.NS.2a']\n",
      "6 ['5.OA.1', '5.OA.2']\n",
      "9 ['5.NBT.6']\n",
      "8 ['5.NF.3']\n",
      "11 ['none']\n",
      "10 ['none']\n",
      "12 ['8.G.7']\n",
      "15 ['none']\n",
      "14 ['4.OA.4']\n",
      "17 ['5.OA.1']\n",
      "16 ['4.G.2']\n",
      "19 ['4.NBT.X']\n",
      "18 ['8.EE.4']\n",
      "31 ['none']\n",
      "30 ['5.OA.3']\n",
      "36 ['7.EE.5b']\n",
      "35 ['8.G.5', '7.G.6', '7.G.6']\n",
      "34 ['7.SP.7']\n",
      "33 ['8.F.5']\n",
      "32 ['7.SP.8']\n"
     ]
    }
   ],
   "source": [
    "for m, n in item_skill_data.items():\n",
    "    page_num = n['Page #']\n",
    "    skills = n['Standard(s)']\n",
    "    exp = n['explanation']\n",
    "    skills = skills.split(' ')\n",
    "    skills = [i.replace('(', '')for i in skills]\n",
    "    skills = [i.replace(')', '')for i in skills]\n",
    "    print m, skills\n",
    "    for s in skills:\n",
    "        outptu_str = sql_str_2 % (m, page_num, s, exp)\n",
    "        output_file_2.write(outptu_str)"
   ]
  },
  {
   "cell_type": "code",
   "execution_count": 89,
   "metadata": {
    "collapsed": true
   },
   "outputs": [],
   "source": [
    "output_file_2.close()"
   ]
  }
 ],
 "metadata": {
  "kernelspec": {
   "display_name": "Python 2",
   "language": "python",
   "name": "python2"
  },
  "language_info": {
   "codemirror_mode": {
    "name": "ipython",
    "version": 2
   },
   "file_extension": ".py",
   "mimetype": "text/x-python",
   "name": "python",
   "nbconvert_exporter": "python",
   "pygments_lexer": "ipython2",
   "version": "2.7.11"
  }
 },
 "nbformat": 4,
 "nbformat_minor": 0
}
