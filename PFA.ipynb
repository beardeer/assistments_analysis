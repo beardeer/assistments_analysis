{
 "cells": [
  {
   "cell_type": "code",
   "execution_count": 48,
   "metadata": {
    "collapsed": true
   },
   "outputs": [],
   "source": [
    "%matplotlib inline"
   ]
  },
  {
   "cell_type": "code",
   "execution_count": 49,
   "metadata": {
    "collapsed": false
   },
   "outputs": [],
   "source": [
    "import os\n",
    "\n",
    "import numpy as np\n",
    "import pandas as pd\n",
    "import matplotlib.pyplot as plt\n",
    "import matplotlib.pylab as pylab\n",
    "\n",
    "from sklearn.linear_model import LogisticRegression\n",
    "from sklearn.tree import DecisionTreeClassifier\n",
    "from sklearn.ensemble import RandomForestClassifier\n",
    "from sklearn import metrics, cross_validation, preprocessing\n",
    "\n",
    "from assistments_workbench.models.models import classification_model\n",
    "from assistments_workbench.config_reader import config"
   ]
  },
  {
   "cell_type": "code",
   "execution_count": 50,
   "metadata": {
    "collapsed": true
   },
   "outputs": [],
   "source": [
    "pylab.rcParams['figure.figsize'] = 9, 6\n",
    "pylab.rcParams['font.size'] = 14"
   ]
  },
  {
   "cell_type": "code",
   "execution_count": 51,
   "metadata": {
    "collapsed": true
   },
   "outputs": [],
   "source": [
    "k = 5"
   ]
  },
  {
   "cell_type": "code",
   "execution_count": 52,
   "metadata": {
    "collapsed": false
   },
   "outputs": [],
   "source": [
    "input_data = pd.read_csv(os.path.join(config.get('localfiles', 'data_path'), 'arrs_data_pfa.csv'))\n",
    "input_data = input_data.drop_duplicates(['skill_id', 'user_id', 'difficulty'], keep='first')"
   ]
  },
  {
   "cell_type": "code",
   "execution_count": 53,
   "metadata": {
    "collapsed": false
   },
   "outputs": [
    {
     "data": {
      "text/html": [
       "<div>\n",
       "<table border=\"1\" class=\"dataframe\">\n",
       "  <thead>\n",
       "    <tr style=\"text-align: right;\">\n",
       "      <th></th>\n",
       "      <th>correct</th>\n",
       "      <th>skill_id</th>\n",
       "      <th>user_id</th>\n",
       "      <th>difficulty</th>\n",
       "      <th>104_corr</th>\n",
       "      <th>119_corr</th>\n",
       "      <th>120_corr</th>\n",
       "      <th>130_corr</th>\n",
       "      <th>136_corr</th>\n",
       "      <th>149_corr</th>\n",
       "      <th>...</th>\n",
       "      <th>292_incorr</th>\n",
       "      <th>296_incorr</th>\n",
       "      <th>46_incorr</th>\n",
       "      <th>49_incorr</th>\n",
       "      <th>51_incorr</th>\n",
       "      <th>52_incorr</th>\n",
       "      <th>77_incorr</th>\n",
       "      <th>88_incorr</th>\n",
       "      <th>89_incorr</th>\n",
       "      <th>90_incorr</th>\n",
       "    </tr>\n",
       "  </thead>\n",
       "  <tbody>\n",
       "    <tr>\n",
       "      <th>count</th>\n",
       "      <td>11715.000000</td>\n",
       "      <td>11715.000000</td>\n",
       "      <td>11715.000000</td>\n",
       "      <td>11715.000000</td>\n",
       "      <td>11715.000000</td>\n",
       "      <td>11715.000000</td>\n",
       "      <td>11715.000000</td>\n",
       "      <td>11715.000000</td>\n",
       "      <td>11715.000000</td>\n",
       "      <td>11715.000000</td>\n",
       "      <td>...</td>\n",
       "      <td>11715.000000</td>\n",
       "      <td>11715.000000</td>\n",
       "      <td>11715.000000</td>\n",
       "      <td>11715.000000</td>\n",
       "      <td>11715.000000</td>\n",
       "      <td>11715.000000</td>\n",
       "      <td>11715.000000</td>\n",
       "      <td>11715.000000</td>\n",
       "      <td>11715.000000</td>\n",
       "      <td>11715.000000</td>\n",
       "    </tr>\n",
       "    <tr>\n",
       "      <th>mean</th>\n",
       "      <td>0.697140</td>\n",
       "      <td>202.180623</td>\n",
       "      <td>287291.122322</td>\n",
       "      <td>0.711606</td>\n",
       "      <td>0.005805</td>\n",
       "      <td>0.032693</td>\n",
       "      <td>0.027828</td>\n",
       "      <td>0.061716</td>\n",
       "      <td>0.008109</td>\n",
       "      <td>0.168758</td>\n",
       "      <td>...</td>\n",
       "      <td>0.008707</td>\n",
       "      <td>0.000683</td>\n",
       "      <td>0.001878</td>\n",
       "      <td>0.003500</td>\n",
       "      <td>0.007426</td>\n",
       "      <td>0.005719</td>\n",
       "      <td>0.007256</td>\n",
       "      <td>0.021169</td>\n",
       "      <td>0.014426</td>\n",
       "      <td>0.015621</td>\n",
       "    </tr>\n",
       "    <tr>\n",
       "      <th>std</th>\n",
       "      <td>0.459515</td>\n",
       "      <td>58.533978</td>\n",
       "      <td>57591.777173</td>\n",
       "      <td>0.147327</td>\n",
       "      <td>0.177630</td>\n",
       "      <td>0.349697</td>\n",
       "      <td>0.308511</td>\n",
       "      <td>0.562803</td>\n",
       "      <td>0.162213</td>\n",
       "      <td>0.841826</td>\n",
       "      <td>...</td>\n",
       "      <td>0.127730</td>\n",
       "      <td>0.026124</td>\n",
       "      <td>0.086654</td>\n",
       "      <td>0.093705</td>\n",
       "      <td>0.153596</td>\n",
       "      <td>0.181672</td>\n",
       "      <td>0.180201</td>\n",
       "      <td>0.242833</td>\n",
       "      <td>0.172994</td>\n",
       "      <td>0.183431</td>\n",
       "    </tr>\n",
       "    <tr>\n",
       "      <th>min</th>\n",
       "      <td>0.000000</td>\n",
       "      <td>46.000000</td>\n",
       "      <td>45309.000000</td>\n",
       "      <td>0.000000</td>\n",
       "      <td>0.000000</td>\n",
       "      <td>0.000000</td>\n",
       "      <td>0.000000</td>\n",
       "      <td>0.000000</td>\n",
       "      <td>0.000000</td>\n",
       "      <td>0.000000</td>\n",
       "      <td>...</td>\n",
       "      <td>0.000000</td>\n",
       "      <td>0.000000</td>\n",
       "      <td>0.000000</td>\n",
       "      <td>0.000000</td>\n",
       "      <td>0.000000</td>\n",
       "      <td>0.000000</td>\n",
       "      <td>0.000000</td>\n",
       "      <td>0.000000</td>\n",
       "      <td>0.000000</td>\n",
       "      <td>0.000000</td>\n",
       "    </tr>\n",
       "    <tr>\n",
       "      <th>25%</th>\n",
       "      <td>0.000000</td>\n",
       "      <td>196.000000</td>\n",
       "      <td>278744.000000</td>\n",
       "      <td>0.616054</td>\n",
       "      <td>0.000000</td>\n",
       "      <td>0.000000</td>\n",
       "      <td>0.000000</td>\n",
       "      <td>0.000000</td>\n",
       "      <td>0.000000</td>\n",
       "      <td>0.000000</td>\n",
       "      <td>...</td>\n",
       "      <td>0.000000</td>\n",
       "      <td>0.000000</td>\n",
       "      <td>0.000000</td>\n",
       "      <td>0.000000</td>\n",
       "      <td>0.000000</td>\n",
       "      <td>0.000000</td>\n",
       "      <td>0.000000</td>\n",
       "      <td>0.000000</td>\n",
       "      <td>0.000000</td>\n",
       "      <td>0.000000</td>\n",
       "    </tr>\n",
       "    <tr>\n",
       "      <th>50%</th>\n",
       "      <td>1.000000</td>\n",
       "      <td>217.000000</td>\n",
       "      <td>286097.000000</td>\n",
       "      <td>0.743860</td>\n",
       "      <td>0.000000</td>\n",
       "      <td>0.000000</td>\n",
       "      <td>0.000000</td>\n",
       "      <td>0.000000</td>\n",
       "      <td>0.000000</td>\n",
       "      <td>0.000000</td>\n",
       "      <td>...</td>\n",
       "      <td>0.000000</td>\n",
       "      <td>0.000000</td>\n",
       "      <td>0.000000</td>\n",
       "      <td>0.000000</td>\n",
       "      <td>0.000000</td>\n",
       "      <td>0.000000</td>\n",
       "      <td>0.000000</td>\n",
       "      <td>0.000000</td>\n",
       "      <td>0.000000</td>\n",
       "      <td>0.000000</td>\n",
       "    </tr>\n",
       "    <tr>\n",
       "      <th>75%</th>\n",
       "      <td>1.000000</td>\n",
       "      <td>239.000000</td>\n",
       "      <td>345500.000000</td>\n",
       "      <td>0.815077</td>\n",
       "      <td>0.000000</td>\n",
       "      <td>0.000000</td>\n",
       "      <td>0.000000</td>\n",
       "      <td>0.000000</td>\n",
       "      <td>0.000000</td>\n",
       "      <td>0.000000</td>\n",
       "      <td>...</td>\n",
       "      <td>0.000000</td>\n",
       "      <td>0.000000</td>\n",
       "      <td>0.000000</td>\n",
       "      <td>0.000000</td>\n",
       "      <td>0.000000</td>\n",
       "      <td>0.000000</td>\n",
       "      <td>0.000000</td>\n",
       "      <td>0.000000</td>\n",
       "      <td>0.000000</td>\n",
       "      <td>0.000000</td>\n",
       "    </tr>\n",
       "    <tr>\n",
       "      <th>max</th>\n",
       "      <td>1.000000</td>\n",
       "      <td>296.000000</td>\n",
       "      <td>385097.000000</td>\n",
       "      <td>1.000000</td>\n",
       "      <td>11.000000</td>\n",
       "      <td>8.000000</td>\n",
       "      <td>7.000000</td>\n",
       "      <td>14.000000</td>\n",
       "      <td>5.000000</td>\n",
       "      <td>14.000000</td>\n",
       "      <td>...</td>\n",
       "      <td>4.000000</td>\n",
       "      <td>1.000000</td>\n",
       "      <td>7.000000</td>\n",
       "      <td>5.000000</td>\n",
       "      <td>7.000000</td>\n",
       "      <td>11.000000</td>\n",
       "      <td>8.000000</td>\n",
       "      <td>10.000000</td>\n",
       "      <td>5.000000</td>\n",
       "      <td>7.000000</td>\n",
       "    </tr>\n",
       "  </tbody>\n",
       "</table>\n",
       "<p>8 rows × 68 columns</p>\n",
       "</div>"
      ],
      "text/plain": [
       "            correct      skill_id        user_id    difficulty      104_corr  \\\n",
       "count  11715.000000  11715.000000   11715.000000  11715.000000  11715.000000   \n",
       "mean       0.697140    202.180623  287291.122322      0.711606      0.005805   \n",
       "std        0.459515     58.533978   57591.777173      0.147327      0.177630   \n",
       "min        0.000000     46.000000   45309.000000      0.000000      0.000000   \n",
       "25%        0.000000    196.000000  278744.000000      0.616054      0.000000   \n",
       "50%        1.000000    217.000000  286097.000000      0.743860      0.000000   \n",
       "75%        1.000000    239.000000  345500.000000      0.815077      0.000000   \n",
       "max        1.000000    296.000000  385097.000000      1.000000     11.000000   \n",
       "\n",
       "           119_corr      120_corr      130_corr      136_corr      149_corr  \\\n",
       "count  11715.000000  11715.000000  11715.000000  11715.000000  11715.000000   \n",
       "mean       0.032693      0.027828      0.061716      0.008109      0.168758   \n",
       "std        0.349697      0.308511      0.562803      0.162213      0.841826   \n",
       "min        0.000000      0.000000      0.000000      0.000000      0.000000   \n",
       "25%        0.000000      0.000000      0.000000      0.000000      0.000000   \n",
       "50%        0.000000      0.000000      0.000000      0.000000      0.000000   \n",
       "75%        0.000000      0.000000      0.000000      0.000000      0.000000   \n",
       "max        8.000000      7.000000     14.000000      5.000000     14.000000   \n",
       "\n",
       "           ...         292_incorr    296_incorr     46_incorr     49_incorr  \\\n",
       "count      ...       11715.000000  11715.000000  11715.000000  11715.000000   \n",
       "mean       ...           0.008707      0.000683      0.001878      0.003500   \n",
       "std        ...           0.127730      0.026124      0.086654      0.093705   \n",
       "min        ...           0.000000      0.000000      0.000000      0.000000   \n",
       "25%        ...           0.000000      0.000000      0.000000      0.000000   \n",
       "50%        ...           0.000000      0.000000      0.000000      0.000000   \n",
       "75%        ...           0.000000      0.000000      0.000000      0.000000   \n",
       "max        ...           4.000000      1.000000      7.000000      5.000000   \n",
       "\n",
       "          51_incorr     52_incorr     77_incorr     88_incorr     89_incorr  \\\n",
       "count  11715.000000  11715.000000  11715.000000  11715.000000  11715.000000   \n",
       "mean       0.007426      0.005719      0.007256      0.021169      0.014426   \n",
       "std        0.153596      0.181672      0.180201      0.242833      0.172994   \n",
       "min        0.000000      0.000000      0.000000      0.000000      0.000000   \n",
       "25%        0.000000      0.000000      0.000000      0.000000      0.000000   \n",
       "50%        0.000000      0.000000      0.000000      0.000000      0.000000   \n",
       "75%        0.000000      0.000000      0.000000      0.000000      0.000000   \n",
       "max        7.000000     11.000000      8.000000     10.000000      5.000000   \n",
       "\n",
       "          90_incorr  \n",
       "count  11715.000000  \n",
       "mean       0.015621  \n",
       "std        0.183431  \n",
       "min        0.000000  \n",
       "25%        0.000000  \n",
       "50%        0.000000  \n",
       "75%        0.000000  \n",
       "max        7.000000  \n",
       "\n",
       "[8 rows x 68 columns]"
      ]
     },
     "execution_count": 53,
     "metadata": {},
     "output_type": "execute_result"
    }
   ],
   "source": [
    "input_data.describe()"
   ]
  },
  {
   "cell_type": "code",
   "execution_count": 54,
   "metadata": {
    "collapsed": false,
    "scrolled": false
   },
   "outputs": [
    {
     "data": {
      "text/html": [
       "<div>\n",
       "<table border=\"1\" class=\"dataframe\">\n",
       "  <thead>\n",
       "    <tr style=\"text-align: right;\">\n",
       "      <th></th>\n",
       "      <th>correct</th>\n",
       "      <th>skill_id</th>\n",
       "      <th>user_id</th>\n",
       "      <th>difficulty</th>\n",
       "      <th>104_corr</th>\n",
       "      <th>119_corr</th>\n",
       "      <th>120_corr</th>\n",
       "      <th>130_corr</th>\n",
       "      <th>136_corr</th>\n",
       "      <th>149_corr</th>\n",
       "      <th>...</th>\n",
       "      <th>292_incorr</th>\n",
       "      <th>296_incorr</th>\n",
       "      <th>46_incorr</th>\n",
       "      <th>49_incorr</th>\n",
       "      <th>51_incorr</th>\n",
       "      <th>52_incorr</th>\n",
       "      <th>77_incorr</th>\n",
       "      <th>88_incorr</th>\n",
       "      <th>89_incorr</th>\n",
       "      <th>90_incorr</th>\n",
       "    </tr>\n",
       "  </thead>\n",
       "  <tbody>\n",
       "    <tr>\n",
       "      <th>0</th>\n",
       "      <td>1</td>\n",
       "      <td>239</td>\n",
       "      <td>223605</td>\n",
       "      <td>0.861940</td>\n",
       "      <td>0</td>\n",
       "      <td>0</td>\n",
       "      <td>0</td>\n",
       "      <td>0</td>\n",
       "      <td>0</td>\n",
       "      <td>0</td>\n",
       "      <td>...</td>\n",
       "      <td>0</td>\n",
       "      <td>0</td>\n",
       "      <td>0</td>\n",
       "      <td>0</td>\n",
       "      <td>0</td>\n",
       "      <td>0</td>\n",
       "      <td>0</td>\n",
       "      <td>0</td>\n",
       "      <td>0</td>\n",
       "      <td>0</td>\n",
       "    </tr>\n",
       "    <tr>\n",
       "      <th>2</th>\n",
       "      <td>1</td>\n",
       "      <td>239</td>\n",
       "      <td>221805</td>\n",
       "      <td>0.812105</td>\n",
       "      <td>0</td>\n",
       "      <td>0</td>\n",
       "      <td>0</td>\n",
       "      <td>0</td>\n",
       "      <td>0</td>\n",
       "      <td>0</td>\n",
       "      <td>...</td>\n",
       "      <td>0</td>\n",
       "      <td>0</td>\n",
       "      <td>0</td>\n",
       "      <td>0</td>\n",
       "      <td>0</td>\n",
       "      <td>0</td>\n",
       "      <td>0</td>\n",
       "      <td>0</td>\n",
       "      <td>0</td>\n",
       "      <td>0</td>\n",
       "    </tr>\n",
       "    <tr>\n",
       "      <th>4</th>\n",
       "      <td>1</td>\n",
       "      <td>239</td>\n",
       "      <td>221878</td>\n",
       "      <td>0.885741</td>\n",
       "      <td>0</td>\n",
       "      <td>0</td>\n",
       "      <td>0</td>\n",
       "      <td>0</td>\n",
       "      <td>0</td>\n",
       "      <td>0</td>\n",
       "      <td>...</td>\n",
       "      <td>0</td>\n",
       "      <td>0</td>\n",
       "      <td>0</td>\n",
       "      <td>0</td>\n",
       "      <td>0</td>\n",
       "      <td>0</td>\n",
       "      <td>0</td>\n",
       "      <td>0</td>\n",
       "      <td>0</td>\n",
       "      <td>0</td>\n",
       "    </tr>\n",
       "    <tr>\n",
       "      <th>5</th>\n",
       "      <td>0</td>\n",
       "      <td>239</td>\n",
       "      <td>221665</td>\n",
       "      <td>0.796260</td>\n",
       "      <td>0</td>\n",
       "      <td>0</td>\n",
       "      <td>0</td>\n",
       "      <td>0</td>\n",
       "      <td>0</td>\n",
       "      <td>0</td>\n",
       "      <td>...</td>\n",
       "      <td>0</td>\n",
       "      <td>0</td>\n",
       "      <td>0</td>\n",
       "      <td>0</td>\n",
       "      <td>0</td>\n",
       "      <td>0</td>\n",
       "      <td>0</td>\n",
       "      <td>0</td>\n",
       "      <td>0</td>\n",
       "      <td>0</td>\n",
       "    </tr>\n",
       "    <tr>\n",
       "      <th>7</th>\n",
       "      <td>1</td>\n",
       "      <td>239</td>\n",
       "      <td>221797</td>\n",
       "      <td>0.834661</td>\n",
       "      <td>0</td>\n",
       "      <td>0</td>\n",
       "      <td>0</td>\n",
       "      <td>0</td>\n",
       "      <td>0</td>\n",
       "      <td>0</td>\n",
       "      <td>...</td>\n",
       "      <td>0</td>\n",
       "      <td>0</td>\n",
       "      <td>0</td>\n",
       "      <td>0</td>\n",
       "      <td>0</td>\n",
       "      <td>0</td>\n",
       "      <td>0</td>\n",
       "      <td>0</td>\n",
       "      <td>0</td>\n",
       "      <td>0</td>\n",
       "    </tr>\n",
       "  </tbody>\n",
       "</table>\n",
       "<p>5 rows × 68 columns</p>\n",
       "</div>"
      ],
      "text/plain": [
       "   correct  skill_id  user_id  difficulty  104_corr  119_corr  120_corr  \\\n",
       "0        1       239   223605    0.861940         0         0         0   \n",
       "2        1       239   221805    0.812105         0         0         0   \n",
       "4        1       239   221878    0.885741         0         0         0   \n",
       "5        0       239   221665    0.796260         0         0         0   \n",
       "7        1       239   221797    0.834661         0         0         0   \n",
       "\n",
       "   130_corr  136_corr  149_corr    ...      292_incorr  296_incorr  46_incorr  \\\n",
       "0         0         0         0    ...               0           0          0   \n",
       "2         0         0         0    ...               0           0          0   \n",
       "4         0         0         0    ...               0           0          0   \n",
       "5         0         0         0    ...               0           0          0   \n",
       "7         0         0         0    ...               0           0          0   \n",
       "\n",
       "   49_incorr  51_incorr  52_incorr  77_incorr  88_incorr  89_incorr  90_incorr  \n",
       "0          0          0          0          0          0          0          0  \n",
       "2          0          0          0          0          0          0          0  \n",
       "4          0          0          0          0          0          0          0  \n",
       "5          0          0          0          0          0          0          0  \n",
       "7          0          0          0          0          0          0          0  \n",
       "\n",
       "[5 rows x 68 columns]"
      ]
     },
     "execution_count": 54,
     "metadata": {},
     "output_type": "execute_result"
    }
   ],
   "source": [
    "input_data.head()"
   ]
  },
  {
   "cell_type": "code",
   "execution_count": 55,
   "metadata": {
    "collapsed": false
   },
   "outputs": [
    {
     "data": {
      "text/plain": [
       "0.7116058022774806"
      ]
     },
     "execution_count": 55,
     "metadata": {},
     "output_type": "execute_result"
    }
   ],
   "source": [
    "# mean of probelm difficulty\n",
    "np.mean(input_data['difficulty'])"
   ]
  },
  {
   "cell_type": "code",
   "execution_count": 56,
   "metadata": {
    "collapsed": false,
    "scrolled": false
   },
   "outputs": [
    {
     "data": {
      "text/plain": [
       "<matplotlib.text.Text at 0x20b65ef0>"
      ]
     },
     "execution_count": 56,
     "metadata": {},
     "output_type": "execute_result"
    },
    {
     "data": {
      "image/png": "[encoded data removed]",
      "text/plain": [
       "<matplotlib.figure.Figure at 0x1fb29828>"
      ]
     },
     "metadata": {},
     "output_type": "display_data"
    }
   ],
   "source": [
    "# hisogtam of difficulty\n",
    "input_data['difficulty'].hist()\n",
    "plt.title('Histogram of Difficulty')\n",
    "plt.xlabel('Difficulty')\n",
    "plt.ylabel('Frequency')"
   ]
  },
  {
   "cell_type": "code",
   "execution_count": 57,
   "metadata": {
    "collapsed": false
   },
   "outputs": [],
   "source": [
    "# input_data['opp_count'] = input_data['pre_corr'] + input_data['pre_incorr']"
   ]
  },
  {
   "cell_type": "code",
   "execution_count": 58,
   "metadata": {
    "collapsed": false
   },
   "outputs": [],
   "source": [
    "# pd.crosstab(input_data['opp_count'][:100], input_data['correct'][:100].astype(bool)).plot(kind='bar')\n",
    "# plt.title('Num of pervious opportunities by by correctness')\n",
    "# plt.xlabel('Num of pervious opportunity ')\n",
    "# plt.ylabel('Frequency')"
   ]
  },
  {
   "cell_type": "code",
   "execution_count": 59,
   "metadata": {
    "collapsed": false
   },
   "outputs": [
    {
     "name": "stdout",
     "output_type": "stream",
     "text": [
      "['correct', 'skill_id', 'user_id', 'difficulty', '104_corr', '119_corr', '120_corr', '130_corr', '136_corr', '149_corr', '156_corr', '158_corr', '178_corr', '196_corr', '198_corr', '212_corr', '213_corr', '217_corr', '219_corr', '239_corr', '259_corr', '262_corr', '263_corr', '265_corr', '278_corr', '291_corr', '292_corr', '296_corr', '46_corr', '49_corr', '51_corr', '52_corr', '77_corr', '88_corr', '89_corr', '90_corr', '104_incorr', '119_incorr', '120_incorr', '130_incorr', '136_incorr', '149_incorr', '156_incorr', '158_incorr', '178_incorr', '196_incorr', '198_incorr', '212_incorr', '213_incorr', '217_incorr', '219_incorr', '239_incorr', '259_incorr', '262_incorr', '263_incorr', '265_incorr', '278_incorr', '291_incorr', '292_incorr', '296_incorr', '46_incorr', '49_incorr', '51_incorr', '52_incorr', '77_incorr', '88_incorr', '89_incorr', '90_incorr']\n"
     ]
    }
   ],
   "source": [
    "all_features = input_data.columns.tolist()\n",
    "print all_features"
   ]
  },
  {
   "cell_type": "code",
   "execution_count": 60,
   "metadata": {
    "collapsed": false,
    "scrolled": false
   },
   "outputs": [],
   "source": [
    "label = 'correct'\n",
    "all_features.remove(label)\n",
    "all_features.remove('user_id')\n",
    "predictors = all_features\n",
    "categorical_features = ['skill_id']\n",
    "cv_label_name = 'user_id'"
   ]
  },
  {
   "cell_type": "code",
   "execution_count": 61,
   "metadata": {
    "collapsed": false,
    "scrolled": true
   },
   "outputs": [
    {
     "name": "stderr",
     "output_type": "stream",
     "text": []
    },
    {
     "data": {
      "text/plain": [
       "(0.72731926473437991,\n",
       " 0.13769596389134051,\n",
       " 0.42688729712774143,\n",
       " 0.72701664532650445)"
      ]
     },
     "execution_count": 61,
     "metadata": {},
     "output_type": "execute_result"
    }
   ],
   "source": [
    "model = LogisticRegression()\n",
    "classification_model(model = model, data = input_data, predictors = predictors, label = label, \n",
    "                     categorical_features = categorical_features, cv_label_name = cv_label_name, p = None, k = k, train_only = False)"
   ]
  }
 ],
 "metadata": {
  "kernelspec": {
   "display_name": "Python 2",
   "language": "python",
   "name": "python2"
  },
  "language_info": {
   "codemirror_mode": {
    "name": "ipython",
    "version": 2
   },
   "file_extension": ".py",
   "mimetype": "text/x-python",
   "name": "python",
   "nbconvert_exporter": "python",
   "pygments_lexer": "ipython2",
   "version": "2.7.12"
  }
 },
 "nbformat": 4,
 "nbformat_minor": 0
}
