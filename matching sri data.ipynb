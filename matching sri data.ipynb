{
 "cells": [
  {
   "cell_type": "code",
   "execution_count": 96,
   "metadata": {
    "collapsed": false
   },
   "outputs": [],
   "source": [
    "import os\n",
    "from copy import copy\n",
    "\n",
    "from utility_dot_py.utility import build_dict_from_csv\n",
    "from assistments_workbench.config_reader import config"
   ]
  },
  {
   "cell_type": "code",
   "execution_count": 97,
   "metadata": {
    "collapsed": false
   },
   "outputs": [],
   "source": [
    "id_file = os.path.join(config.get('localfiles', 'data_path'), 'assistment-sri id mapping for Neil.csv')"
   ]
  },
  {
   "cell_type": "code",
   "execution_count": 98,
   "metadata": {
    "collapsed": false
   },
   "outputs": [],
   "source": [
    "id_data = build_dict_from_csv(id_file, 1, True, True)"
   ]
  },
  {
   "cell_type": "code",
   "execution_count": 99,
   "metadata": {
    "collapsed": false
   },
   "outputs": [
    {
     "data": {
      "text/plain": [
       "1695"
      ]
     },
     "execution_count": 99,
     "metadata": {},
     "output_type": "execute_result"
    }
   ],
   "source": [
    "len(id_data)"
   ]
  },
  {
   "cell_type": "code",
   "execution_count": 100,
   "metadata": {
    "collapsed": false
   },
   "outputs": [],
   "source": [
    "nova_file = os.path.join(config.get('localfiles', 'data_path'), 'TerraNova students 11-4-2015.csv')"
   ]
  },
  {
   "cell_type": "code",
   "execution_count": 101,
   "metadata": {
    "collapsed": true
   },
   "outputs": [],
   "source": [
    "nova_data = build_dict_from_csv(nova_file, 8, True, False)"
   ]
  },
  {
   "cell_type": "code",
   "execution_count": 102,
   "metadata": {
    "collapsed": false
   },
   "outputs": [
    {
     "data": {
      "text/plain": [
       "3421"
      ]
     },
     "execution_count": 102,
     "metadata": {},
     "output_type": "execute_result"
    }
   ],
   "source": [
    "len(nova_data)"
   ]
  },
  {
   "cell_type": "code",
   "execution_count": 103,
   "metadata": {
    "collapsed": true
   },
   "outputs": [],
   "source": [
    "output_data = []"
   ]
  },
  {
   "cell_type": "code",
   "execution_count": 104,
   "metadata": {
    "collapsed": false
   },
   "outputs": [],
   "source": [
    "for k, v in id_data.items():\n",
    "    score = nova_data[k]\n",
    "    for i in v:\n",
    "        new_score_data = copy(score)\n",
    "        new_score_data['student_user_id'] = i['ASSISTments user id']\n",
    "        new_score_data['sri_id'] = k\n",
    "        output_data.append(new_score_data)"
   ]
  },
  {
   "cell_type": "code",
   "execution_count": 105,
   "metadata": {
    "collapsed": false
   },
   "outputs": [
    {
     "data": {
      "text/plain": [
       "1788"
      ]
     },
     "execution_count": 105,
     "metadata": {},
     "output_type": "execute_result"
    }
   ],
   "source": [
    "len(output_data)"
   ]
  },
  {
   "cell_type": "code",
   "execution_count": 106,
   "metadata": {
    "collapsed": false
   },
   "outputs": [
    {
     "data": {
      "text/plain": [
       "[{'Class ID': 'B',\n",
       "  'Cohort': '1',\n",
       "  'Condition': 'Treatment',\n",
       "  'Grade': '7',\n",
       "  'Pair': '1e',\n",
       "  'SPED': 'no',\n",
       "  'School': 'Loranger Middle School',\n",
       "  'School ID': '45',\n",
       "  'Teacher ID': '194',\n",
       "  'Teacher Name Last': 'Dennis',\n",
       "  'TerraNova Math Performance Level': '3',\n",
       "  'TerraNova Score': '685',\n",
       "  'TerraNova Test Completed': 'yes',\n",
       "  'sri_id': '4026',\n",
       "  'student_user_id': '241788'},\n",
       " {'Class ID': 'B',\n",
       "  'Cohort': '1',\n",
       "  'Condition': 'Treatment',\n",
       "  'Grade': '7',\n",
       "  'Pair': '1e',\n",
       "  'SPED': 'no',\n",
       "  'School': 'Loranger Middle School',\n",
       "  'School ID': '45',\n",
       "  'Teacher ID': '194',\n",
       "  'Teacher Name Last': 'Dennis',\n",
       "  'TerraNova Math Performance Level': '3',\n",
       "  'TerraNova Score': '679',\n",
       "  'TerraNova Test Completed': 'yes',\n",
       "  'sri_id': '4027',\n",
       "  'student_user_id': '241778'},\n",
       " {'Class ID': 'B',\n",
       "  'Cohort': '1',\n",
       "  'Condition': 'Treatment',\n",
       "  'Grade': '7',\n",
       "  'Pair': '1e',\n",
       "  'SPED': 'no',\n",
       "  'School': 'Loranger Middle School',\n",
       "  'School ID': '45',\n",
       "  'Teacher ID': '194',\n",
       "  'Teacher Name Last': 'Dennis',\n",
       "  'TerraNova Math Performance Level': '2',\n",
       "  'TerraNova Score': '665',\n",
       "  'TerraNova Test Completed': 'yes',\n",
       "  'sri_id': '4024',\n",
       "  'student_user_id': '241782'}]"
      ]
     },
     "execution_count": 106,
     "metadata": {},
     "output_type": "execute_result"
    }
   ],
   "source": [
    "output_data[:3]"
   ]
  },
  {
   "cell_type": "code",
   "execution_count": 107,
   "metadata": {
    "collapsed": true
   },
   "outputs": [],
   "source": [
    "sql_str = '''INSERT INTO xx_score(\n",
    "            class_id, cohort, condition, grade, pair, sped, school, school_id, \n",
    "            teacher_id, teacher_name_last, terranova_math_performance_level, \n",
    "            terranova_score, terranova_test_completed, student_user_id, sri_id)\n",
    "    VALUES ('%s', %s, '%s', %s, '%s', '%s', '%s', %s, \n",
    "            %s, '%s', %s, \n",
    "            %s, '%s', %s, %s);\\n'''"
   ]
  },
  {
   "cell_type": "code",
   "execution_count": 108,
   "metadata": {
    "collapsed": true
   },
   "outputs": [],
   "source": [
    "output_file_name = os.path.join(config.get('localfiles', 'data_path'), 'score_sql.txt')"
   ]
  },
  {
   "cell_type": "code",
   "execution_count": 109,
   "metadata": {
    "collapsed": true
   },
   "outputs": [],
   "source": [
    "output_file = open(output_file_name, 'w')"
   ]
  },
  {
   "cell_type": "code",
   "execution_count": 110,
   "metadata": {
    "collapsed": false
   },
   "outputs": [],
   "source": [
    "for i in output_data:\n",
    "    for k,v in i.items():\n",
    "        if len(v) == 0:\n",
    "            i[k] = 'null'\n",
    "    outptu_str = sql_str % (i['Class ID'], i['Cohort'], i['Condition'], i['Grade'], i['Pair'], i['SPED'], i['School'], i['School ID'], \n",
    "                            i['Teacher ID'], i['Teacher Name Last'], i['TerraNova Math Performance Level'], \n",
    "                            i['TerraNova Score'], i['TerraNova Test Completed'], i['student_user_id'], i['sri_id'])\n",
    "        \n",
    "    output_file.write(outptu_str)"
   ]
  },
  {
   "cell_type": "code",
   "execution_count": 111,
   "metadata": {
    "collapsed": true
   },
   "outputs": [],
   "source": [
    "output_file.close()"
   ]
  },
  {
   "cell_type": "code",
   "execution_count": null,
   "metadata": {
    "collapsed": true
   },
   "outputs": [],
   "source": []
  }
 ],
 "metadata": {
  "kernelspec": {
   "display_name": "Python 2",
   "language": "python",
   "name": "python2"
  },
  "language_info": {
   "codemirror_mode": {
    "name": "ipython",
    "version": 2
   },
   "file_extension": ".py",
   "mimetype": "text/x-python",
   "name": "python",
   "nbconvert_exporter": "python",
   "pygments_lexer": "ipython2",
   "version": "2.7.11"
  }
 },
 "nbformat": 4,
 "nbformat_minor": 0
}
