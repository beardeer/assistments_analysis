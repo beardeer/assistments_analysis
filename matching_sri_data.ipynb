{
 "cells": [
  {
   "cell_type": "code",
   "execution_count": 157,
   "metadata": {
    "collapsed": false
   },
   "outputs": [],
   "source": [
    "import os\n",
    "from copy import copy\n",
    "\n",
    "from utility_dot_py.utility import build_dict_from_csv\n",
    "from assistments_workbench.config_reader import config"
   ]
  },
  {
   "cell_type": "code",
   "execution_count": 158,
   "metadata": {
    "collapsed": false
   },
   "outputs": [],
   "source": [
    "id_file = os.path.join(config.get('localfiles', 'data_path'), 'assistment-sri id mapping for Neil.csv')"
   ]
  },
  {
   "cell_type": "code",
   "execution_count": 159,
   "metadata": {
    "collapsed": false
   },
   "outputs": [],
   "source": [
    "id_data = build_dict_from_csv(id_file, 1, True, True)"
   ]
  },
  {
   "cell_type": "code",
   "execution_count": 160,
   "metadata": {
    "collapsed": false
   },
   "outputs": [
    {
     "data": {
      "text/plain": [
       "1695"
      ]
     },
     "execution_count": 160,
     "metadata": {},
     "output_type": "execute_result"
    }
   ],
   "source": [
    "len(id_data)"
   ]
  },
  {
   "cell_type": "code",
   "execution_count": 161,
   "metadata": {
    "collapsed": false
   },
   "outputs": [],
   "source": [
    "nova_file = os.path.join(config.get('localfiles', 'data_path'), 'TerraNova students 11-4-2015.csv')"
   ]
  },
  {
   "cell_type": "code",
   "execution_count": 162,
   "metadata": {
    "collapsed": false
   },
   "outputs": [],
   "source": [
    "nova_data = build_dict_from_csv(nova_file, 8, True, False)"
   ]
  },
  {
   "cell_type": "code",
   "execution_count": 163,
   "metadata": {
    "collapsed": false
   },
   "outputs": [
    {
     "data": {
      "text/plain": [
       "3421"
      ]
     },
     "execution_count": 163,
     "metadata": {},
     "output_type": "execute_result"
    }
   ],
   "source": [
    "len(nova_data)"
   ]
  },
  {
   "cell_type": "code",
   "execution_count": 164,
   "metadata": {
    "collapsed": true
   },
   "outputs": [],
   "source": [
    "teacher_file = os.path.join(config.get('localfiles', 'data_path'), 'Teacher_User_Mapping - Sheet1.csv')"
   ]
  },
  {
   "cell_type": "code",
   "execution_count": 165,
   "metadata": {
    "collapsed": true
   },
   "outputs": [],
   "source": [
    "teacher_data = build_dict_from_csv(teacher_file, 1, True, False)"
   ]
  },
  {
   "cell_type": "code",
   "execution_count": 166,
   "metadata": {
    "collapsed": false
   },
   "outputs": [
    {
     "data": {
      "text/plain": [
       "45"
      ]
     },
     "execution_count": 166,
     "metadata": {},
     "output_type": "execute_result"
    }
   ],
   "source": [
    "len(teacher_data)"
   ]
  },
  {
   "cell_type": "code",
   "execution_count": 167,
   "metadata": {
    "collapsed": true
   },
   "outputs": [],
   "source": [
    "output_data = []"
   ]
  },
  {
   "cell_type": "code",
   "execution_count": 168,
   "metadata": {
    "collapsed": false
   },
   "outputs": [],
   "source": [
    "for sri_id, v in nova_data.items():\n",
    "    user_ids = id_data.get(sri_id, [{'ASSISTments user id': 'null'}])\n",
    "    for i in user_ids:\n",
    "        new_score_data = copy(v)\n",
    "        new_score_data['student_user_id'] = i['ASSISTments user id']\n",
    "        new_score_data['teacher_user_id'] = teacher_data.get(v['Teacher ID'], {'user_id': 'null'})['user_id']\n",
    "        new_score_data['student_sri_id'] = sri_id\n",
    "        output_data.append(new_score_data)    "
   ]
  },
  {
   "cell_type": "code",
   "execution_count": 169,
   "metadata": {
    "collapsed": false
   },
   "outputs": [
    {
     "data": {
      "text/plain": [
       "3514"
      ]
     },
     "execution_count": 169,
     "metadata": {},
     "output_type": "execute_result"
    }
   ],
   "source": [
    "len(output_data)"
   ]
  },
  {
   "cell_type": "code",
   "execution_count": 170,
   "metadata": {
    "collapsed": false
   },
   "outputs": [
    {
     "data": {
      "text/plain": [
       "[{'Class ID': 'B',\n",
       "  'Cohort': '2',\n",
       "  'Condition': 'Control',\n",
       "  'Grade': '7',\n",
       "  'Pair': '4d',\n",
       "  'SPED': 'no',\n",
       "  'School': 'Westbrook Middle School',\n",
       "  'School ID': '36',\n",
       "  'Teacher ID': '140',\n",
       "  'Teacher Name Last': 'Makin',\n",
       "  'TerraNova Math Performance Level': '3',\n",
       "  'TerraNova Score': '703',\n",
       "  'TerraNova Test Completed': 'yes',\n",
       "  'student_sri_id': '13356',\n",
       "  'student_user_id': 'null',\n",
       "  'teacher_user_id': 'null'},\n",
       " {'Class ID': 'C',\n",
       "  'Cohort': '2',\n",
       "  'Condition': 'Control',\n",
       "  'Grade': '7',\n",
       "  'Pair': '4f',\n",
       "  'SPED': 'no',\n",
       "  'School': 'Wiscassett',\n",
       "  'School ID': '38',\n",
       "  'Teacher ID': '143',\n",
       "  'Teacher Name Last': 'Hammond',\n",
       "  'TerraNova Math Performance Level': '1',\n",
       "  'TerraNova Score': '487',\n",
       "  'TerraNova Test Completed': 'yes',\n",
       "  'student_sri_id': '12861',\n",
       "  'student_user_id': 'null',\n",
       "  'teacher_user_id': 'null'},\n",
       " {'Class ID': 'B',\n",
       "  'Cohort': '1',\n",
       "  'Condition': 'Treatment',\n",
       "  'Grade': '7',\n",
       "  'Pair': '1e',\n",
       "  'SPED': 'no',\n",
       "  'School': 'Loranger Middle School',\n",
       "  'School ID': '45',\n",
       "  'Teacher ID': '194',\n",
       "  'Teacher Name Last': 'Dennis',\n",
       "  'TerraNova Math Performance Level': '3',\n",
       "  'TerraNova Score': '685',\n",
       "  'TerraNova Test Completed': 'yes',\n",
       "  'student_sri_id': '4026',\n",
       "  'student_user_id': '241788',\n",
       "  'teacher_user_id': '151662'}]"
      ]
     },
     "execution_count": 170,
     "metadata": {},
     "output_type": "execute_result"
    }
   ],
   "source": [
    "output_data[:3]"
   ]
  },
  {
   "cell_type": "code",
   "execution_count": 171,
   "metadata": {
    "collapsed": true
   },
   "outputs": [],
   "source": [
    "sql_str = '''INSERT INTO efficacy_score(\n",
    "            class_id, cohort, condition, grade, pair, sped, school, school_id, \n",
    "            teacher_sri_id, teacher_name_last, terranova_math_performance_level, \n",
    "            terranova_score, terranova_test_completed, student_user_id, student_sri_id, teacher_user_id)\n",
    "    VALUES ('%s', %s, '%s', %s, '%s', '%s', '%s', %s, \n",
    "            %s, '%s', %s, \n",
    "            %s, '%s', %s, \n",
    "            %s, %s);\\n'''"
   ]
  },
  {
   "cell_type": "code",
   "execution_count": 172,
   "metadata": {
    "collapsed": true
   },
   "outputs": [],
   "source": [
    "output_file_name = os.path.join(config.get('localfiles', 'data_path'), 'insert_data_FOR_TEST1_ONLY.sql')"
   ]
  },
  {
   "cell_type": "code",
   "execution_count": 173,
   "metadata": {
    "collapsed": true
   },
   "outputs": [],
   "source": [
    "output_file = open(output_file_name, 'w')"
   ]
  },
  {
   "cell_type": "code",
   "execution_count": 174,
   "metadata": {
    "collapsed": false
   },
   "outputs": [],
   "source": [
    "for i in output_data:\n",
    "    for k,v in i.items():\n",
    "        if len(v) == 0:\n",
    "            i[k] = 'null'\n",
    "    outptu_str = sql_str % (i['Class ID'], i['Cohort'], i['Condition'], i['Grade'], i['Pair'], i['SPED'], i['School'], i['School ID'], \n",
    "                            i['Teacher ID'], i['Teacher Name Last'], i['TerraNova Math Performance Level'], \n",
    "                            i['TerraNova Score'], i['TerraNova Test Completed'], i['student_user_id'], \n",
    "                            i['student_sri_id'], i['teacher_user_id'])\n",
    "        \n",
    "    output_file.write(outptu_str)"
   ]
  },
  {
   "cell_type": "code",
   "execution_count": 175,
   "metadata": {
    "collapsed": true
   },
   "outputs": [],
   "source": [
    "output_file.close()"
   ]
  },
  {
   "cell_type": "code",
   "execution_count": null,
   "metadata": {
    "collapsed": true
   },
   "outputs": [],
   "source": []
  }
 ],
 "metadata": {
  "kernelspec": {
   "display_name": "Python 2",
   "language": "python",
   "name": "python2"
  },
  "language_info": {
   "codemirror_mode": {
    "name": "ipython",
    "version": 2
   },
   "file_extension": ".py",
   "mimetype": "text/x-python",
   "name": "python",
   "nbconvert_exporter": "python",
   "pygments_lexer": "ipython2",
   "version": "2.7.11"
  }
 },
 "nbformat": 4,
 "nbformat_minor": 0
}
