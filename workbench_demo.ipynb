{
 "cells": [
  {
   "cell_type": "code",
   "execution_count": 1,
   "metadata": {
    "collapsed": false
   },
   "outputs": [],
   "source": [
    "import os\n",
    "\n",
    "from utility_dot_py.utility import QueryProcessor\n",
    "from assistments_workbench.data_access.db_access.connector import db\n",
    "from assistments_workbench.data_access.attach_query_result import attach_query_result_by_header\n",
    "from assistments_workbench.config_reader import config"
   ]
  },
  {
   "cell_type": "code",
   "execution_count": 2,
   "metadata": {
    "collapsed": false
   },
   "outputs": [],
   "source": [
    "# define output folder\n",
    "output_dir = config.get('localfiles', 'data_path')"
   ]
  },
  {
   "cell_type": "code",
   "execution_count": 3,
   "metadata": {
    "collapsed": true
   },
   "outputs": [],
   "source": [
    "# sql query for getting user id, problem id, problem set id, and correctness\n",
    "sql_query = \"\"\" select user_id, sequence_id, problem_id, correct from problem_logs pl\n",
    "left join class_assignments ca on ca.id = pl.assignment_id\n",
    "where ca.sequence_id in (\n",
    "5968,11898,6921,5969,37570\n",
    ") and pl.start_time::date >= '2015-11-01' and pl.start_time::date < '2015-12-01' and pl.correct is not null\n",
    "and pl.original = 1\n",
    "order by user_id, pl.id; \"\"\""
   ]
  },
  {
   "cell_type": "code",
   "execution_count": 4,
   "metadata": {
    "collapsed": false
   },
   "outputs": [],
   "source": [
    "processor = QueryProcessor(db, output_dir)"
   ]
  },
  {
   "cell_type": "code",
   "execution_count": 5,
   "metadata": {
    "collapsed": false,
    "scrolled": true
   },
   "outputs": [
    {
     "name": "stdout",
     "output_type": "stream",
     "text": [
      "Running queries:   select user_id, sequence_id, problem_id, correct from problem_logs pl\n",
      "left join class_assignments ca on ca.id = pl.assignment_id\n",
      "where ca.sequence_id in (\n",
      "5968,11898,6921,5969,37570\n",
      ") and pl.start_time::date >= '2015-11-01' and pl.start_time::date < '2015-12-01' and pl.correct is not null\n",
      "and pl.original = 1\n",
      "order by user_id, pl.id; \n",
      "C:\\Workarea\\Data\\query_result_2016_04_02_22_43_32.csv\n"
     ]
    }
   ],
   "source": [
    "sql_data_path = processor.run_query_to_csv(sql_query)"
   ]
  },
  {
   "cell_type": "code",
   "execution_count": null,
   "metadata": {
    "collapsed": false
   },
   "outputs": [
    {
     "name": "stdout",
     "output_type": "stream",
     "text": [
      "C:\\Workarea\\Data\\query_result_2016_04_02_22_43_32.csv\n"
     ]
    }
   ],
   "source": [
    "print sql_data_path"
   ]
  },
  {
   "cell_type": "code",
   "execution_count": null,
   "metadata": {
    "collapsed": false,
    "scrolled": true
   },
   "outputs": [
    {
     "name": "stdout",
     "output_type": "stream",
     "text": [
      "contained header:  [('problem_id',)]\n",
      "new header:  ['user_id', 'sequence_id', 'problem_id', 'correct', 'problem_difficulty']\n",
      "Running queries to attach new information ...\n"
     ]
    },
    {
     "name": "stderr",
     "output_type": "stream",
     "text": [
      "15it [00:49,  2.35s/it]"
     ]
    }
   ],
   "source": [
    "sql_with_features = attach_query_result_by_header(sql_data_path)"
   ]
  },
  {
   "cell_type": "code",
   "execution_count": null,
   "metadata": {
    "collapsed": true
   },
   "outputs": [],
   "source": [
    "print sql_with_features"
   ]
  }
 ],
 "metadata": {
  "kernelspec": {
   "display_name": "Python 2",
   "language": "python",
   "name": "python2"
  },
  "language_info": {
   "codemirror_mode": {
    "name": "ipython",
    "version": 2
   },
   "file_extension": ".py",
   "mimetype": "text/x-python",
   "name": "python",
   "nbconvert_exporter": "python",
   "pygments_lexer": "ipython2",
   "version": "2.7.11"
  }
 },
 "nbformat": 4,
 "nbformat_minor": 0
}
