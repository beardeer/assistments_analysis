{
 "cells": [
  {
   "cell_type": "code",
   "execution_count": 1,
   "metadata": {
    "collapsed": false
   },
   "outputs": [],
   "source": [
    "import os\n",
    "\n",
    "import numpy as np\n",
    "import pandas as pd\n",
    "import matplotlib.pyplot as plt\n",
    "import matplotlib.pylab as pylab\n",
    "from scipy import stats\n",
    "\n",
    "from sklearn.linear_model import LogisticRegression\n",
    "from sklearn.tree import DecisionTreeClassifier\n",
    "from sklearn.ensemble import RandomForestClassifier\n",
    "\n",
    "from utility_dot_py.utility import QueryProcessor\n",
    "from assistments_workbench.data_access.db_access.connector import db\n",
    "from assistments_workbench.data_access.attach_query_result import attach_query_result_by_header\n",
    "from assistments_workbench.config_reader import config\n",
    "from assistments_workbench.data_converters.PFAConverter import PFAConverter\n",
    "from assistments_workbench.models.model import classification_model"
   ]
  },
  {
   "cell_type": "code",
   "execution_count": 2,
   "metadata": {
    "collapsed": true
   },
   "outputs": [],
   "source": [
    "%matplotlib inline\n",
    "pylab.rcParams['figure.figsize'] = 9, 6\n",
    "pylab.rcParams['font.size'] = 14"
   ]
  },
  {
   "cell_type": "code",
   "execution_count": 3,
   "metadata": {
    "collapsed": false
   },
   "outputs": [],
   "source": [
    "# define output folder\n",
    "output_dir = config.get('localfiles', 'data_path')"
   ]
  },
  {
   "cell_type": "code",
   "execution_count": 4,
   "metadata": {
    "collapsed": true
   },
   "outputs": [],
   "source": [
    "# sql query for getting user id, problem id, problem set id, and correctness\n",
    "sql_query = \"\"\" select user_id, sequence_id, problem_id, correct from problem_logs pl\n",
    "left join class_assignments ca on ca.id = pl.assignment_id\n",
    "where ca.sequence_id in (\n",
    "5968,11898,6921,5969,37570\n",
    ") and pl.start_time >= '2015-01-01' and pl.start_time < '2015-12-01' and pl.correct is not null\n",
    "and pl.original = 1\n",
    "order by user_id, pl.id; \"\"\""
   ]
  },
  {
   "cell_type": "code",
   "execution_count": 5,
   "metadata": {
    "collapsed": false
   },
   "outputs": [],
   "source": [
    "processor = QueryProcessor(db, output_dir)"
   ]
  },
  {
   "cell_type": "code",
   "execution_count": 6,
   "metadata": {
    "collapsed": false,
    "scrolled": true
   },
   "outputs": [
    {
     "name": "stdout",
     "output_type": "stream",
     "text": [
      "Running queries:   select user_id, sequence_id, problem_id, correct from problem_logs pl\n",
      "left join class_assignments ca on ca.id = pl.assignment_id\n",
      "where ca.sequence_id in (\n",
      "5968,11898,6921,5969,37570\n",
      ") and pl.start_time >= '2015-01-01' and pl.start_time < '2015-12-01' and pl.correct is not null\n",
      "and pl.original = 1\n",
      "order by user_id, pl.id; \n",
      "C:\\Workarea\\Data\\query_result_2016_04_03_00_12_40.csv\n"
     ]
    }
   ],
   "source": [
    "sql_data_path = processor.run_query_to_csv(sql_query)"
   ]
  },
  {
   "cell_type": "code",
   "execution_count": 7,
   "metadata": {
    "collapsed": false
   },
   "outputs": [
    {
     "name": "stdout",
     "output_type": "stream",
     "text": [
      "C:\\Workarea\\Data\\query_result_2016_04_03_00_12_40.csv\n"
     ]
    }
   ],
   "source": [
    "print sql_data_path"
   ]
  },
  {
   "cell_type": "code",
   "execution_count": 8,
   "metadata": {
    "collapsed": false,
    "scrolled": true
   },
   "outputs": [
    {
     "name": "stderr",
     "output_type": "stream",
     "text": [
      "                             "
     ]
    },
    {
     "name": "stdout",
     "output_type": "stream",
     "text": [
      "contained header:  [('problem_id',)]\n",
      "new header:  ['user_id', 'sequence_id', 'problem_id', 'correct', 'problem_difficulty']\n",
      "Running queries to attach new information ...\n"
     ]
    },
    {
     "name": "stderr",
     "output_type": "stream",
     "text": [
      "\r"
     ]
    }
   ],
   "source": [
    "sql_with_features = attach_query_result_by_header(sql_data_path)"
   ]
  },
  {
   "cell_type": "code",
   "execution_count": 9,
   "metadata": {
    "collapsed": false
   },
   "outputs": [
    {
     "name": "stdout",
     "output_type": "stream",
     "text": [
      "C:\\Workarea\\Data\\query_result_2016_04_03_00_12_40_w_feature.csv\n"
     ]
    }
   ],
   "source": [
    "print sql_with_features"
   ]
  },
  {
   "cell_type": "code",
   "execution_count": 10,
   "metadata": {
    "collapsed": true
   },
   "outputs": [],
   "source": [
    "col_mapping = {'user_id': 0, 'sequence_id' : 1, 'problem_id' : 2, 'correct': 3, 'difficulty': 4}"
   ]
  },
  {
   "cell_type": "code",
   "execution_count": 11,
   "metadata": {
    "collapsed": false
   },
   "outputs": [
    {
     "name": "stderr",
     "output_type": "stream",
     "text": []
    }
   ],
   "source": [
    "pfa_data_path = PFAConverter(sql_with_features, None, col_mapping, 1)"
   ]
  },
  {
   "cell_type": "code",
   "execution_count": 12,
   "metadata": {
    "collapsed": false
   },
   "outputs": [
    {
     "name": "stdout",
     "output_type": "stream",
     "text": [
      "C:\\Workarea\\Data\\query_result_2016_04_03_00_12_40_w_feature_pfa.csv\n"
     ]
    }
   ],
   "source": [
    "print pfa_data_path"
   ]
  },
  {
   "cell_type": "code",
   "execution_count": 13,
   "metadata": {
    "collapsed": true
   },
   "outputs": [],
   "source": [
    "input_data = pd.read_csv(pfa_data_path)"
   ]
  },
  {
   "cell_type": "code",
   "execution_count": 14,
   "metadata": {
    "collapsed": false,
    "scrolled": true
   },
   "outputs": [
    {
     "data": {
      "text/html": [
       "<div>\n",
       "<table border=\"1\" class=\"dataframe\">\n",
       "  <thead>\n",
       "    <tr style=\"text-align: right;\">\n",
       "      <th></th>\n",
       "      <th>correct</th>\n",
       "      <th>skill_id</th>\n",
       "      <th>user_id</th>\n",
       "      <th>difficulty</th>\n",
       "      <th>11898_corr</th>\n",
       "      <th>37570_corr</th>\n",
       "      <th>5968_corr</th>\n",
       "      <th>5969_corr</th>\n",
       "      <th>6921_corr</th>\n",
       "      <th>11898_incorr</th>\n",
       "      <th>37570_incorr</th>\n",
       "      <th>5968_incorr</th>\n",
       "      <th>5969_incorr</th>\n",
       "      <th>6921_incorr</th>\n",
       "    </tr>\n",
       "  </thead>\n",
       "  <tbody>\n",
       "    <tr>\n",
       "      <th>0</th>\n",
       "      <td>0</td>\n",
       "      <td>37570</td>\n",
       "      <td>62430</td>\n",
       "      <td>0.256757</td>\n",
       "      <td>0</td>\n",
       "      <td>0</td>\n",
       "      <td>0</td>\n",
       "      <td>0</td>\n",
       "      <td>0</td>\n",
       "      <td>0</td>\n",
       "      <td>0</td>\n",
       "      <td>0</td>\n",
       "      <td>0</td>\n",
       "      <td>0</td>\n",
       "    </tr>\n",
       "    <tr>\n",
       "      <th>1</th>\n",
       "      <td>1</td>\n",
       "      <td>37570</td>\n",
       "      <td>62430</td>\n",
       "      <td>0.243151</td>\n",
       "      <td>0</td>\n",
       "      <td>0</td>\n",
       "      <td>0</td>\n",
       "      <td>0</td>\n",
       "      <td>0</td>\n",
       "      <td>0</td>\n",
       "      <td>1</td>\n",
       "      <td>0</td>\n",
       "      <td>0</td>\n",
       "      <td>0</td>\n",
       "    </tr>\n",
       "    <tr>\n",
       "      <th>2</th>\n",
       "      <td>0</td>\n",
       "      <td>37570</td>\n",
       "      <td>62432</td>\n",
       "      <td>0.220025</td>\n",
       "      <td>0</td>\n",
       "      <td>0</td>\n",
       "      <td>0</td>\n",
       "      <td>0</td>\n",
       "      <td>0</td>\n",
       "      <td>0</td>\n",
       "      <td>0</td>\n",
       "      <td>0</td>\n",
       "      <td>0</td>\n",
       "      <td>0</td>\n",
       "    </tr>\n",
       "    <tr>\n",
       "      <th>3</th>\n",
       "      <td>0</td>\n",
       "      <td>37570</td>\n",
       "      <td>62432</td>\n",
       "      <td>0.306499</td>\n",
       "      <td>0</td>\n",
       "      <td>0</td>\n",
       "      <td>0</td>\n",
       "      <td>0</td>\n",
       "      <td>0</td>\n",
       "      <td>0</td>\n",
       "      <td>1</td>\n",
       "      <td>0</td>\n",
       "      <td>0</td>\n",
       "      <td>0</td>\n",
       "    </tr>\n",
       "    <tr>\n",
       "      <th>4</th>\n",
       "      <td>1</td>\n",
       "      <td>37570</td>\n",
       "      <td>62432</td>\n",
       "      <td>0.357647</td>\n",
       "      <td>0</td>\n",
       "      <td>0</td>\n",
       "      <td>0</td>\n",
       "      <td>0</td>\n",
       "      <td>0</td>\n",
       "      <td>0</td>\n",
       "      <td>2</td>\n",
       "      <td>0</td>\n",
       "      <td>0</td>\n",
       "      <td>0</td>\n",
       "    </tr>\n",
       "  </tbody>\n",
       "</table>\n",
       "</div>"
      ],
      "text/plain": [
       "   correct  skill_id  user_id  difficulty  11898_corr  37570_corr  5968_corr  \\\n",
       "0        0     37570    62430    0.256757           0           0          0   \n",
       "1        1     37570    62430    0.243151           0           0          0   \n",
       "2        0     37570    62432    0.220025           0           0          0   \n",
       "3        0     37570    62432    0.306499           0           0          0   \n",
       "4        1     37570    62432    0.357647           0           0          0   \n",
       "\n",
       "   5969_corr  6921_corr  11898_incorr  37570_incorr  5968_incorr  5969_incorr  \\\n",
       "0          0          0             0             0            0            0   \n",
       "1          0          0             0             1            0            0   \n",
       "2          0          0             0             0            0            0   \n",
       "3          0          0             0             1            0            0   \n",
       "4          0          0             0             2            0            0   \n",
       "\n",
       "   6921_incorr  \n",
       "0            0  \n",
       "1            0  \n",
       "2            0  \n",
       "3            0  \n",
       "4            0  "
      ]
     },
     "execution_count": 14,
     "metadata": {},
     "output_type": "execute_result"
    }
   ],
   "source": [
    "input_data.head()"
   ]
  },
  {
   "cell_type": "code",
   "execution_count": 15,
   "metadata": {
    "collapsed": false
   },
   "outputs": [
    {
     "data": {
      "text/html": [
       "<div>\n",
       "<table border=\"1\" class=\"dataframe\">\n",
       "  <thead>\n",
       "    <tr style=\"text-align: right;\">\n",
       "      <th></th>\n",
       "      <th>correct</th>\n",
       "      <th>skill_id</th>\n",
       "      <th>user_id</th>\n",
       "      <th>difficulty</th>\n",
       "      <th>11898_corr</th>\n",
       "      <th>37570_corr</th>\n",
       "      <th>5968_corr</th>\n",
       "      <th>5969_corr</th>\n",
       "      <th>6921_corr</th>\n",
       "      <th>11898_incorr</th>\n",
       "      <th>37570_incorr</th>\n",
       "      <th>5968_incorr</th>\n",
       "      <th>5969_incorr</th>\n",
       "      <th>6921_incorr</th>\n",
       "    </tr>\n",
       "  </thead>\n",
       "  <tbody>\n",
       "    <tr>\n",
       "      <th>count</th>\n",
       "      <td>78267.000000</td>\n",
       "      <td>78267.000000</td>\n",
       "      <td>78267.000000</td>\n",
       "      <td>78267.000000</td>\n",
       "      <td>78267.000000</td>\n",
       "      <td>78267.000000</td>\n",
       "      <td>78267.000000</td>\n",
       "      <td>78267.000000</td>\n",
       "      <td>78267.000000</td>\n",
       "      <td>78267.000000</td>\n",
       "      <td>78267.000000</td>\n",
       "      <td>78267.000000</td>\n",
       "      <td>78267.000000</td>\n",
       "      <td>78267.000000</td>\n",
       "    </tr>\n",
       "    <tr>\n",
       "      <th>mean</th>\n",
       "      <td>0.714209</td>\n",
       "      <td>16406.593545</td>\n",
       "      <td>297223.101703</td>\n",
       "      <td>0.352130</td>\n",
       "      <td>0.631697</td>\n",
       "      <td>1.057125</td>\n",
       "      <td>0.452822</td>\n",
       "      <td>0.343734</td>\n",
       "      <td>0.452438</td>\n",
       "      <td>0.244151</td>\n",
       "      <td>0.977181</td>\n",
       "      <td>0.424802</td>\n",
       "      <td>0.433759</td>\n",
       "      <td>0.263636</td>\n",
       "    </tr>\n",
       "    <tr>\n",
       "      <th>std</th>\n",
       "      <td>0.451793</td>\n",
       "      <td>13473.382428</td>\n",
       "      <td>47352.835096</td>\n",
       "      <td>0.133384</td>\n",
       "      <td>1.953845</td>\n",
       "      <td>3.332289</td>\n",
       "      <td>1.616981</td>\n",
       "      <td>1.340692</td>\n",
       "      <td>1.926643</td>\n",
       "      <td>1.252751</td>\n",
       "      <td>3.629067</td>\n",
       "      <td>1.751206</td>\n",
       "      <td>1.694989</td>\n",
       "      <td>1.291671</td>\n",
       "    </tr>\n",
       "    <tr>\n",
       "      <th>min</th>\n",
       "      <td>0.000000</td>\n",
       "      <td>5968.000000</td>\n",
       "      <td>62430.000000</td>\n",
       "      <td>0.078431</td>\n",
       "      <td>0.000000</td>\n",
       "      <td>0.000000</td>\n",
       "      <td>0.000000</td>\n",
       "      <td>0.000000</td>\n",
       "      <td>0.000000</td>\n",
       "      <td>0.000000</td>\n",
       "      <td>0.000000</td>\n",
       "      <td>0.000000</td>\n",
       "      <td>0.000000</td>\n",
       "      <td>0.000000</td>\n",
       "    </tr>\n",
       "    <tr>\n",
       "      <th>25%</th>\n",
       "      <td>0.000000</td>\n",
       "      <td>5969.000000</td>\n",
       "      <td>278745.000000</td>\n",
       "      <td>0.247028</td>\n",
       "      <td>0.000000</td>\n",
       "      <td>0.000000</td>\n",
       "      <td>0.000000</td>\n",
       "      <td>0.000000</td>\n",
       "      <td>0.000000</td>\n",
       "      <td>0.000000</td>\n",
       "      <td>0.000000</td>\n",
       "      <td>0.000000</td>\n",
       "      <td>0.000000</td>\n",
       "      <td>0.000000</td>\n",
       "    </tr>\n",
       "    <tr>\n",
       "      <th>50%</th>\n",
       "      <td>1.000000</td>\n",
       "      <td>11898.000000</td>\n",
       "      <td>302917.000000</td>\n",
       "      <td>0.340573</td>\n",
       "      <td>0.000000</td>\n",
       "      <td>0.000000</td>\n",
       "      <td>0.000000</td>\n",
       "      <td>0.000000</td>\n",
       "      <td>0.000000</td>\n",
       "      <td>0.000000</td>\n",
       "      <td>0.000000</td>\n",
       "      <td>0.000000</td>\n",
       "      <td>0.000000</td>\n",
       "      <td>0.000000</td>\n",
       "    </tr>\n",
       "    <tr>\n",
       "      <th>75%</th>\n",
       "      <td>1.000000</td>\n",
       "      <td>37570.000000</td>\n",
       "      <td>337236.000000</td>\n",
       "      <td>0.433304</td>\n",
       "      <td>0.000000</td>\n",
       "      <td>0.000000</td>\n",
       "      <td>0.000000</td>\n",
       "      <td>0.000000</td>\n",
       "      <td>0.000000</td>\n",
       "      <td>0.000000</td>\n",
       "      <td>0.000000</td>\n",
       "      <td>0.000000</td>\n",
       "      <td>0.000000</td>\n",
       "      <td>0.000000</td>\n",
       "    </tr>\n",
       "    <tr>\n",
       "      <th>max</th>\n",
       "      <td>1.000000</td>\n",
       "      <td>37570.000000</td>\n",
       "      <td>362271.000000</td>\n",
       "      <td>0.956907</td>\n",
       "      <td>31.000000</td>\n",
       "      <td>48.000000</td>\n",
       "      <td>24.000000</td>\n",
       "      <td>25.000000</td>\n",
       "      <td>35.000000</td>\n",
       "      <td>36.000000</td>\n",
       "      <td>62.000000</td>\n",
       "      <td>39.000000</td>\n",
       "      <td>29.000000</td>\n",
       "      <td>25.000000</td>\n",
       "    </tr>\n",
       "  </tbody>\n",
       "</table>\n",
       "</div>"
      ],
      "text/plain": [
       "            correct      skill_id        user_id    difficulty    11898_corr  \\\n",
       "count  78267.000000  78267.000000   78267.000000  78267.000000  78267.000000   \n",
       "mean       0.714209  16406.593545  297223.101703      0.352130      0.631697   \n",
       "std        0.451793  13473.382428   47352.835096      0.133384      1.953845   \n",
       "min        0.000000   5968.000000   62430.000000      0.078431      0.000000   \n",
       "25%        0.000000   5969.000000  278745.000000      0.247028      0.000000   \n",
       "50%        1.000000  11898.000000  302917.000000      0.340573      0.000000   \n",
       "75%        1.000000  37570.000000  337236.000000      0.433304      0.000000   \n",
       "max        1.000000  37570.000000  362271.000000      0.956907     31.000000   \n",
       "\n",
       "         37570_corr     5968_corr     5969_corr     6921_corr  11898_incorr  \\\n",
       "count  78267.000000  78267.000000  78267.000000  78267.000000  78267.000000   \n",
       "mean       1.057125      0.452822      0.343734      0.452438      0.244151   \n",
       "std        3.332289      1.616981      1.340692      1.926643      1.252751   \n",
       "min        0.000000      0.000000      0.000000      0.000000      0.000000   \n",
       "25%        0.000000      0.000000      0.000000      0.000000      0.000000   \n",
       "50%        0.000000      0.000000      0.000000      0.000000      0.000000   \n",
       "75%        0.000000      0.000000      0.000000      0.000000      0.000000   \n",
       "max       48.000000     24.000000     25.000000     35.000000     36.000000   \n",
       "\n",
       "       37570_incorr   5968_incorr   5969_incorr   6921_incorr  \n",
       "count  78267.000000  78267.000000  78267.000000  78267.000000  \n",
       "mean       0.977181      0.424802      0.433759      0.263636  \n",
       "std        3.629067      1.751206      1.694989      1.291671  \n",
       "min        0.000000      0.000000      0.000000      0.000000  \n",
       "25%        0.000000      0.000000      0.000000      0.000000  \n",
       "50%        0.000000      0.000000      0.000000      0.000000  \n",
       "75%        0.000000      0.000000      0.000000      0.000000  \n",
       "max       62.000000     39.000000     29.000000     25.000000  "
      ]
     },
     "execution_count": 15,
     "metadata": {},
     "output_type": "execute_result"
    }
   ],
   "source": [
    "input_data.describe()"
   ]
  },
  {
   "cell_type": "code",
   "execution_count": 16,
   "metadata": {
    "collapsed": false
   },
   "outputs": [
    {
     "data": {
      "text/plain": [
       "0.35212966551153513"
      ]
     },
     "execution_count": 16,
     "metadata": {},
     "output_type": "execute_result"
    }
   ],
   "source": [
    "# mean of probelm difficulty\n",
    "np.mean(input_data['difficulty'])"
   ]
  },
  {
   "cell_type": "code",
   "execution_count": 17,
   "metadata": {
    "collapsed": false
   },
   "outputs": [
    {
     "data": {
      "text/plain": [
       "<matplotlib.text.Text at 0xcf7a3c8>"
      ]
     },
     "execution_count": 17,
     "metadata": {},
     "output_type": "execute_result"
    },
    {
     "data": {
      "image/png": "[encoded data removed]",
      "text/plain": [
       "<matplotlib.figure.Figure at 0x661fdd8>"
      ]
     },
     "metadata": {},
     "output_type": "display_data"
    }
   ],
   "source": [
    "# hisogtam of difficulty\n",
    "input_data['difficulty'].hist()\n",
    "plt.title('Histogram of Difficulty')\n",
    "plt.xlabel('Difficulty')\n",
    "plt.ylabel('Frequency')"
   ]
  },
  {
   "cell_type": "code",
   "execution_count": 18,
   "metadata": {
    "collapsed": true
   },
   "outputs": [],
   "source": [
    "input_data['z_difficulty'] = stats.zscore(input_data['difficulty'])"
   ]
  },
  {
   "cell_type": "code",
   "execution_count": 19,
   "metadata": {
    "collapsed": false
   },
   "outputs": [
    {
     "name": "stdout",
     "output_type": "stream",
     "text": [
      "['correct', 'skill_id', 'user_id', 'difficulty', '11898_corr', '37570_corr', '5968_corr', '5969_corr', '6921_corr', '11898_incorr', '37570_incorr', '5968_incorr', '5969_incorr', '6921_incorr', 'z_difficulty']\n"
     ]
    }
   ],
   "source": [
    "all_features = input_data.columns.tolist()\n",
    "print all_features"
   ]
  },
  {
   "cell_type": "code",
   "execution_count": 20,
   "metadata": {
    "collapsed": false
   },
   "outputs": [],
   "source": [
    "label = 'correct'\n",
    "all_features.remove(label)\n",
    "all_features.remove('user_id')\n",
    "predictors = all_features\n",
    "categorical_features = ['skill_id']"
   ]
  },
  {
   "cell_type": "code",
   "execution_count": 21,
   "metadata": {
    "collapsed": false
   },
   "outputs": [
    {
     "name": "stderr",
     "output_type": "stream",
     "text": [
      "                                                                               "
     ]
    },
    {
     "name": "stdout",
     "output_type": "stream",
     "text": [
      "Predictors: ['skill_id', 'difficulty', '11898_corr', '37570_corr', '5968_corr', '5969_corr', '6921_corr', '11898_incorr', '37570_incorr', '5968_incorr', '5969_incorr', '6921_incorr', 'z_difficulty']\n",
      "auc: 0.720716592146\n",
      "r2: 0.123890023282\n",
      "rmse: 0.422893486606\n",
      "accuracy: 0.731968829451\n"
     ]
    },
    {
     "name": "stderr",
     "output_type": "stream",
     "text": [
      "\r"
     ]
    }
   ],
   "source": [
    "model = LogisticRegression()\n",
    "classification_model(model, input_data, predictors, label, categorical_features, 5)"
   ]
  },
  {
   "cell_type": "code",
   "execution_count": 22,
   "metadata": {
    "collapsed": false
   },
   "outputs": [
    {
     "name": "stderr",
     "output_type": "stream",
     "text": [
      "                                                                               "
     ]
    },
    {
     "name": "stdout",
     "output_type": "stream",
     "text": [
      "Predictors: ['skill_id', 'difficulty', '11898_corr', '37570_corr', '5968_corr', '5969_corr', '6921_corr', '11898_incorr', '37570_incorr', '5968_incorr', '5969_incorr', '6921_incorr', 'z_difficulty']\n",
      "auc: 0.624924974364\n",
      "r2: 0.0450899065051\n",
      "rmse: 0.49945224387\n",
      "accuracy: 0.68051669173\n"
     ]
    },
    {
     "name": "stderr",
     "output_type": "stream",
     "text": [
      "\r"
     ]
    }
   ],
   "source": [
    "model = DecisionTreeClassifier()\n",
    "classification_model(model, input_data, predictors, label, categorical_features, 5)"
   ]
  },
  {
   "cell_type": "code",
   "execution_count": null,
   "metadata": {
    "collapsed": true
   },
   "outputs": [],
   "source": []
  }
 ],
 "metadata": {
  "kernelspec": {
   "display_name": "Python 2",
   "language": "python",
   "name": "python2"
  },
  "language_info": {
   "codemirror_mode": {
    "name": "ipython",
    "version": 2
   },
   "file_extension": ".py",
   "mimetype": "text/x-python",
   "name": "python",
   "nbconvert_exporter": "python",
   "pygments_lexer": "ipython2",
   "version": "2.7.11"
  }
 },
 "nbformat": 4,
 "nbformat_minor": 0
}
