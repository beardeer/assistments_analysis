{
 "cells": [
  {
   "cell_type": "code",
   "execution_count": 15,
   "metadata": {
    "collapsed": false
   },
   "outputs": [],
   "source": [
    "import os\n",
    "\n",
    "import numpy as np\n",
    "import pandas as pd\n",
    "import matplotlib.pyplot as plt\n",
    "import matplotlib.pylab as pylab\n",
    "\n",
    "from utility_dot_py.utility import QueryProcessor\n",
    "from assistments_workbench.data_access.db_access.connector import db\n",
    "from assistments_workbench.data_access.attach_query_result import attach_query_result_by_header\n",
    "from assistments_workbench.config_reader import config\n",
    "from assistments_workbench.data_converters.PFAConverter import PFAConverter\n",
    "from assistments_workbench.models.model import classification_model"
   ]
  },
  {
   "cell_type": "code",
   "execution_count": 2,
   "metadata": {
    "collapsed": false
   },
   "outputs": [],
   "source": [
    "# define output folder\n",
    "output_dir = config.get('localfiles', 'data_path')"
   ]
  },
  {
   "cell_type": "code",
   "execution_count": 3,
   "metadata": {
    "collapsed": true
   },
   "outputs": [],
   "source": [
    "# sql query for getting user id, problem id, problem set id, and correctness\n",
    "sql_query = \"\"\" select user_id, sequence_id, problem_id, correct from problem_logs pl\n",
    "left join class_assignments ca on ca.id = pl.assignment_id\n",
    "where ca.sequence_id in (\n",
    "5968,11898,6921,5969,37570\n",
    ") and pl.start_time >= '2015-11-01' and pl.start_time < '2015-12-01' and pl.correct is not null\n",
    "and pl.original = 1\n",
    "order by user_id, pl.id; \"\"\""
   ]
  },
  {
   "cell_type": "code",
   "execution_count": 4,
   "metadata": {
    "collapsed": false
   },
   "outputs": [],
   "source": [
    "processor = QueryProcessor(db, output_dir)"
   ]
  },
  {
   "cell_type": "code",
   "execution_count": 5,
   "metadata": {
    "collapsed": false,
    "scrolled": true
   },
   "outputs": [
    {
     "name": "stdout",
     "output_type": "stream",
     "text": [
      "Running queries:   select user_id, sequence_id, problem_id, correct from problem_logs pl\n",
      "left join class_assignments ca on ca.id = pl.assignment_id\n",
      "where ca.sequence_id in (\n",
      "5968,11898,6921,5969,37570\n",
      ") and pl.start_time >= '2015-11-01' and pl.start_time < '2015-12-01' and pl.correct is not null\n",
      "and pl.original = 1\n",
      "order by user_id, pl.id; \n",
      "C:\\Workarea\\Data\\query_result_2016_04_02_23_17_43.csv\n"
     ]
    }
   ],
   "source": [
    "sql_data_path = processor.run_query_to_csv(sql_query)"
   ]
  },
  {
   "cell_type": "code",
   "execution_count": 6,
   "metadata": {
    "collapsed": false
   },
   "outputs": [
    {
     "name": "stdout",
     "output_type": "stream",
     "text": [
      "C:\\Workarea\\Data\\query_result_2016_04_02_23_17_43.csv\n"
     ]
    }
   ],
   "source": [
    "print sql_data_path"
   ]
  },
  {
   "cell_type": "code",
   "execution_count": 7,
   "metadata": {
    "collapsed": false,
    "scrolled": true
   },
   "outputs": [
    {
     "name": "stderr",
     "output_type": "stream",
     "text": [
      "                           "
     ]
    },
    {
     "name": "stdout",
     "output_type": "stream",
     "text": [
      "contained header:  [('problem_id',)]\n",
      "new header:  ['user_id', 'sequence_id', 'problem_id', 'correct', 'problem_difficulty']\n",
      "Running queries to attach new information ...\n"
     ]
    },
    {
     "name": "stderr",
     "output_type": "stream",
     "text": [
      "\r"
     ]
    }
   ],
   "source": [
    "sql_with_features = attach_query_result_by_header(sql_data_path)"
   ]
  },
  {
   "cell_type": "code",
   "execution_count": 8,
   "metadata": {
    "collapsed": false
   },
   "outputs": [
    {
     "name": "stdout",
     "output_type": "stream",
     "text": [
      "C:\\Workarea\\Data\\query_result_2016_04_02_23_17_43_w_feature.csv\n"
     ]
    }
   ],
   "source": [
    "print sql_with_features"
   ]
  },
  {
   "cell_type": "code",
   "execution_count": 9,
   "metadata": {
    "collapsed": true
   },
   "outputs": [],
   "source": [
    "col_mapping = {'user_id': 0, 'sequence_id' : 1, 'problem_id' : 2, 'correct': 3, 'difficulty': 4}"
   ]
  },
  {
   "cell_type": "code",
   "execution_count": 13,
   "metadata": {
    "collapsed": false
   },
   "outputs": [
    {
     "name": "stderr",
     "output_type": "stream",
     "text": []
    }
   ],
   "source": [
    "pfa_data_path = PFAConverter(sql_with_features, None, col_mapping, 2)"
   ]
  },
  {
   "cell_type": "code",
   "execution_count": 14,
   "metadata": {
    "collapsed": false
   },
   "outputs": [
    {
     "name": "stdout",
     "output_type": "stream",
     "text": [
      "C:\\Workarea\\Data\\query_result_2016_04_02_23_17_43_w_feature_pfa.csv\n"
     ]
    }
   ],
   "source": [
    "print pfa_data_path"
   ]
  },
  {
   "cell_type": "code",
   "execution_count": 16,
   "metadata": {
    "collapsed": true
   },
   "outputs": [],
   "source": [
    "input_data = pd.read_csv(pfa_data_path)"
   ]
  },
  {
   "cell_type": "code",
   "execution_count": 17,
   "metadata": {
    "collapsed": false
   },
   "outputs": [
    {
     "data": {
      "text/html": [
       "<div>\n",
       "<table border=\"1\" class=\"dataframe\">\n",
       "  <thead>\n",
       "    <tr style=\"text-align: right;\">\n",
       "      <th></th>\n",
       "      <th>1.0</th>\n",
       "      <th>11898</th>\n",
       "      <th>119747</th>\n",
       "      <th>0.2031987814166032</th>\n",
       "      <th>0</th>\n",
       "      <th>0.1</th>\n",
       "    </tr>\n",
       "  </thead>\n",
       "  <tbody>\n",
       "    <tr>\n",
       "      <th>0</th>\n",
       "      <td>1</td>\n",
       "      <td>11898</td>\n",
       "      <td>119747</td>\n",
       "      <td>0.193594</td>\n",
       "      <td>1</td>\n",
       "      <td>0</td>\n",
       "    </tr>\n",
       "    <tr>\n",
       "      <th>1</th>\n",
       "      <td>1</td>\n",
       "      <td>11898</td>\n",
       "      <td>119747</td>\n",
       "      <td>0.281161</td>\n",
       "      <td>2</td>\n",
       "      <td>0</td>\n",
       "    </tr>\n",
       "    <tr>\n",
       "      <th>2</th>\n",
       "      <td>1</td>\n",
       "      <td>5968</td>\n",
       "      <td>167401</td>\n",
       "      <td>0.271930</td>\n",
       "      <td>0</td>\n",
       "      <td>0</td>\n",
       "    </tr>\n",
       "    <tr>\n",
       "      <th>3</th>\n",
       "      <td>1</td>\n",
       "      <td>5968</td>\n",
       "      <td>167401</td>\n",
       "      <td>0.146489</td>\n",
       "      <td>1</td>\n",
       "      <td>0</td>\n",
       "    </tr>\n",
       "    <tr>\n",
       "      <th>4</th>\n",
       "      <td>0</td>\n",
       "      <td>5968</td>\n",
       "      <td>167401</td>\n",
       "      <td>0.367888</td>\n",
       "      <td>2</td>\n",
       "      <td>0</td>\n",
       "    </tr>\n",
       "  </tbody>\n",
       "</table>\n",
       "</div>"
      ],
      "text/plain": [
       "   1.0  11898  119747  0.2031987814166032  0  0.1\n",
       "0    1  11898  119747            0.193594  1    0\n",
       "1    1  11898  119747            0.281161  2    0\n",
       "2    1   5968  167401            0.271930  0    0\n",
       "3    1   5968  167401            0.146489  1    0\n",
       "4    0   5968  167401            0.367888  2    0"
      ]
     },
     "execution_count": 17,
     "metadata": {},
     "output_type": "execute_result"
    }
   ],
   "source": [
    "input_data.head()"
   ]
  },
  {
   "cell_type": "code",
   "execution_count": null,
   "metadata": {
    "collapsed": true
   },
   "outputs": [],
   "source": []
  }
 ],
 "metadata": {
  "kernelspec": {
   "display_name": "Python 2",
   "language": "python",
   "name": "python2"
  },
  "language_info": {
   "codemirror_mode": {
    "name": "ipython",
    "version": 2
   },
   "file_extension": ".py",
   "mimetype": "text/x-python",
   "name": "python",
   "nbconvert_exporter": "python",
   "pygments_lexer": "ipython2",
   "version": "2.7.11"
  }
 },
 "nbformat": 4,
 "nbformat_minor": 0
}
